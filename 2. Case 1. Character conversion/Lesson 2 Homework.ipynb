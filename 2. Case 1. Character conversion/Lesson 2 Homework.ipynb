{
 "cells": [
  {
   "cell_type": "markdown",
   "metadata": {},
   "source": [
    "## Урок 2. Кейс 1. Преобразование признаков"
   ]
  },
  {
   "cell_type": "markdown",
   "metadata": {},
   "source": [
    "### Домашняя работа"
   ]
  },
  {
   "cell_type": "markdown",
   "metadata": {},
   "source": [
    "#### 1. Прочитайте базу \"COVID_19_data\" и сделайте модель для сглаженой формы(экспоненциально) по приросту(первые разности) или по прямому ряду для выздоровлений(или заболеваний) с глубиной прогноза h=1 и h=10 по образцу из примера для обработки ряда \"цена Нефти\" "
   ]
  },
  {
   "cell_type": "code",
   "execution_count": 1,
   "metadata": {},
   "outputs": [],
   "source": [
    "import matplotlib.pyplot as plt\n",
    "import numpy as np\n",
    "import pandas as pd \n",
    "import seaborn as sns\n",
    "from sklearn.metrics import mean_squared_error\n",
    "import statsmodels.api as sm\n",
    "import scipy.stats as scs\n",
    "from datetime import date, datetime"
   ]
  },
  {
   "cell_type": "code",
   "execution_count": 2,
   "metadata": {},
   "outputs": [],
   "source": [
    "covid = pd.read_csv('covid_19_data.csv')"
   ]
  },
  {
   "cell_type": "code",
   "execution_count": 3,
   "metadata": {},
   "outputs": [
    {
     "name": "stdout",
     "output_type": "stream",
     "text": [
      "<class 'pandas.core.frame.DataFrame'>\n",
      "RangeIndex: 23481 entries, 0 to 23480\n",
      "Data columns (total 8 columns):\n",
      "SNo                23481 non-null int64\n",
      "ObservationDate    23481 non-null object\n",
      "Province/State     11286 non-null object\n",
      "Country/Region     23481 non-null object\n",
      "Last Update        23481 non-null object\n",
      "Confirmed          23481 non-null float64\n",
      "Deaths             23481 non-null float64\n",
      "Recovered          23481 non-null float64\n",
      "dtypes: float64(3), int64(1), object(4)\n",
      "memory usage: 1.4+ MB\n"
     ]
    }
   ],
   "source": [
    "covid.info()"
   ]
  },
  {
   "cell_type": "code",
   "execution_count": 4,
   "metadata": {},
   "outputs": [
    {
     "data": {
      "text/html": [
       "<div>\n",
       "<style scoped>\n",
       "    .dataframe tbody tr th:only-of-type {\n",
       "        vertical-align: middle;\n",
       "    }\n",
       "\n",
       "    .dataframe tbody tr th {\n",
       "        vertical-align: top;\n",
       "    }\n",
       "\n",
       "    .dataframe thead th {\n",
       "        text-align: right;\n",
       "    }\n",
       "</style>\n",
       "<table border=\"1\" class=\"dataframe\">\n",
       "  <thead>\n",
       "    <tr style=\"text-align: right;\">\n",
       "      <th></th>\n",
       "      <th>SNo</th>\n",
       "      <th>ObservationDate</th>\n",
       "      <th>Province/State</th>\n",
       "      <th>Country/Region</th>\n",
       "      <th>Last Update</th>\n",
       "      <th>Confirmed</th>\n",
       "      <th>Deaths</th>\n",
       "      <th>Recovered</th>\n",
       "    </tr>\n",
       "  </thead>\n",
       "  <tbody>\n",
       "    <tr>\n",
       "      <th>0</th>\n",
       "      <td>1</td>\n",
       "      <td>01/22/2020</td>\n",
       "      <td>Anhui</td>\n",
       "      <td>Mainland China</td>\n",
       "      <td>1/22/2020 17:00</td>\n",
       "      <td>1.0</td>\n",
       "      <td>0.0</td>\n",
       "      <td>0.0</td>\n",
       "    </tr>\n",
       "    <tr>\n",
       "      <th>1</th>\n",
       "      <td>2</td>\n",
       "      <td>01/22/2020</td>\n",
       "      <td>Beijing</td>\n",
       "      <td>Mainland China</td>\n",
       "      <td>1/22/2020 17:00</td>\n",
       "      <td>14.0</td>\n",
       "      <td>0.0</td>\n",
       "      <td>0.0</td>\n",
       "    </tr>\n",
       "    <tr>\n",
       "      <th>2</th>\n",
       "      <td>3</td>\n",
       "      <td>01/22/2020</td>\n",
       "      <td>Chongqing</td>\n",
       "      <td>Mainland China</td>\n",
       "      <td>1/22/2020 17:00</td>\n",
       "      <td>6.0</td>\n",
       "      <td>0.0</td>\n",
       "      <td>0.0</td>\n",
       "    </tr>\n",
       "    <tr>\n",
       "      <th>3</th>\n",
       "      <td>4</td>\n",
       "      <td>01/22/2020</td>\n",
       "      <td>Fujian</td>\n",
       "      <td>Mainland China</td>\n",
       "      <td>1/22/2020 17:00</td>\n",
       "      <td>1.0</td>\n",
       "      <td>0.0</td>\n",
       "      <td>0.0</td>\n",
       "    </tr>\n",
       "    <tr>\n",
       "      <th>4</th>\n",
       "      <td>5</td>\n",
       "      <td>01/22/2020</td>\n",
       "      <td>Gansu</td>\n",
       "      <td>Mainland China</td>\n",
       "      <td>1/22/2020 17:00</td>\n",
       "      <td>0.0</td>\n",
       "      <td>0.0</td>\n",
       "      <td>0.0</td>\n",
       "    </tr>\n",
       "  </tbody>\n",
       "</table>\n",
       "</div>"
      ],
      "text/plain": [
       "   SNo ObservationDate Province/State  Country/Region      Last Update  \\\n",
       "0    1      01/22/2020          Anhui  Mainland China  1/22/2020 17:00   \n",
       "1    2      01/22/2020        Beijing  Mainland China  1/22/2020 17:00   \n",
       "2    3      01/22/2020      Chongqing  Mainland China  1/22/2020 17:00   \n",
       "3    4      01/22/2020         Fujian  Mainland China  1/22/2020 17:00   \n",
       "4    5      01/22/2020          Gansu  Mainland China  1/22/2020 17:00   \n",
       "\n",
       "   Confirmed  Deaths  Recovered  \n",
       "0        1.0     0.0        0.0  \n",
       "1       14.0     0.0        0.0  \n",
       "2        6.0     0.0        0.0  \n",
       "3        1.0     0.0        0.0  \n",
       "4        0.0     0.0        0.0  "
      ]
     },
     "execution_count": 4,
     "metadata": {},
     "output_type": "execute_result"
    }
   ],
   "source": [
    "covid.head()"
   ]
  },
  {
   "cell_type": "code",
   "execution_count": 5,
   "metadata": {},
   "outputs": [
    {
     "data": {
      "text/html": [
       "<div>\n",
       "<style scoped>\n",
       "    .dataframe tbody tr th:only-of-type {\n",
       "        vertical-align: middle;\n",
       "    }\n",
       "\n",
       "    .dataframe tbody tr th {\n",
       "        vertical-align: top;\n",
       "    }\n",
       "\n",
       "    .dataframe thead th {\n",
       "        text-align: right;\n",
       "    }\n",
       "</style>\n",
       "<table border=\"1\" class=\"dataframe\">\n",
       "  <thead>\n",
       "    <tr style=\"text-align: right;\">\n",
       "      <th></th>\n",
       "      <th>Confirmed</th>\n",
       "      <th>Deaths</th>\n",
       "      <th>Recovered</th>\n",
       "    </tr>\n",
       "    <tr>\n",
       "      <th>Data</th>\n",
       "      <th></th>\n",
       "      <th></th>\n",
       "      <th></th>\n",
       "    </tr>\n",
       "  </thead>\n",
       "  <tbody>\n",
       "    <tr>\n",
       "      <th>2020-01-22</th>\n",
       "      <td>555.0</td>\n",
       "      <td>17.0</td>\n",
       "      <td>28.0</td>\n",
       "    </tr>\n",
       "    <tr>\n",
       "      <th>2020-01-23</th>\n",
       "      <td>653.0</td>\n",
       "      <td>18.0</td>\n",
       "      <td>30.0</td>\n",
       "    </tr>\n",
       "    <tr>\n",
       "      <th>2020-01-24</th>\n",
       "      <td>941.0</td>\n",
       "      <td>26.0</td>\n",
       "      <td>36.0</td>\n",
       "    </tr>\n",
       "    <tr>\n",
       "      <th>2020-01-25</th>\n",
       "      <td>1438.0</td>\n",
       "      <td>42.0</td>\n",
       "      <td>39.0</td>\n",
       "    </tr>\n",
       "    <tr>\n",
       "      <th>2020-01-26</th>\n",
       "      <td>2118.0</td>\n",
       "      <td>56.0</td>\n",
       "      <td>52.0</td>\n",
       "    </tr>\n",
       "  </tbody>\n",
       "</table>\n",
       "</div>"
      ],
      "text/plain": [
       "            Confirmed  Deaths  Recovered\n",
       "Data                                    \n",
       "2020-01-22      555.0    17.0       28.0\n",
       "2020-01-23      653.0    18.0       30.0\n",
       "2020-01-24      941.0    26.0       36.0\n",
       "2020-01-25     1438.0    42.0       39.0\n",
       "2020-01-26     2118.0    56.0       52.0"
      ]
     },
     "execution_count": 5,
     "metadata": {},
     "output_type": "execute_result"
    }
   ],
   "source": [
    "covid['Data'] = pd.to_datetime(covid['ObservationDate']).dt.date\n",
    "covid = covid.groupby(['Data'])['Confirmed','Deaths','Recovered'].sum()\n",
    "covid.head()"
   ]
  },
  {
   "cell_type": "code",
   "execution_count": 6,
   "metadata": {
    "scrolled": false
   },
   "outputs": [
    {
     "data": {
      "image/png": "[encoded data removed]",
      "text/plain": [
       "<Figure size 432x288 with 1 Axes>"
      ]
     },
     "metadata": {
      "needs_background": "light"
     },
     "output_type": "display_data"
    }
   ],
   "source": [
    "covid.plot()\n",
    "plt.xticks(label = covid.index.get_level_values('Data'), rotation=90)\n",
    "plt.show()"
   ]
  },
  {
   "cell_type": "markdown",
   "metadata": {},
   "source": [
    "Для работы возьмем series \"Сonfirmed\"   \n",
    "вычислим значения первых разностей:"
   ]
  },
  {
   "cell_type": "code",
   "execution_count": 7,
   "metadata": {},
   "outputs": [],
   "source": [
    "d_covid_data = covid['Confirmed'].values[1:]- covid['Confirmed'].values[:-1]"
   ]
  },
  {
   "cell_type": "code",
   "execution_count": 8,
   "metadata": {},
   "outputs": [
    {
     "data": {
      "text/plain": [
       "(-3.4247128632557997,\n",
       " 0.1331721897688259,\n",
       " 12,\n",
       " 97,\n",
       " {'1%': -4.494768875917224,\n",
       "  '5%': -3.8947305593240955,\n",
       "  '10%': -3.5916200220451353},\n",
       " 1958.4131490882514)"
      ]
     },
     "execution_count": 8,
     "metadata": {},
     "output_type": "execute_result"
    }
   ],
   "source": [
    "DF_data = sm.tsa.stattools.adfuller(covid['Confirmed'].values,regression='ctt')\n",
    "DF_data"
   ]
  },
  {
   "cell_type": "code",
   "execution_count": 9,
   "metadata": {},
   "outputs": [
    {
     "name": "stdout",
     "output_type": "stream",
     "text": [
      "коэффициент ADF для 1-й разности для графика COVID:  0.9658562890714928\n"
     ]
    }
   ],
   "source": [
    "DF_data_db = sm.tsa.stattools.adfuller(d_covid_data,regression='ctt')\n",
    "print('коэффициент ADF для 1-й разности для графика COVID: ', DF_data_db[1])"
   ]
  },
  {
   "cell_type": "markdown",
   "metadata": {},
   "source": [
    "значение ненулевое, значит ряд нестационарен (действительно, на графике выражен явный тренд)"
   ]
  },
  {
   "cell_type": "markdown",
   "metadata": {},
   "source": [
    "построим модель:"
   ]
  },
  {
   "cell_type": "code",
   "execution_count": 10,
   "metadata": {},
   "outputs": [
    {
     "data": {
      "text/html": [
       "<div>\n",
       "<style scoped>\n",
       "    .dataframe tbody tr th:only-of-type {\n",
       "        vertical-align: middle;\n",
       "    }\n",
       "\n",
       "    .dataframe tbody tr th {\n",
       "        vertical-align: top;\n",
       "    }\n",
       "\n",
       "    .dataframe thead th {\n",
       "        text-align: right;\n",
       "    }\n",
       "</style>\n",
       "<table border=\"1\" class=\"dataframe\">\n",
       "  <thead>\n",
       "    <tr style=\"text-align: right;\">\n",
       "      <th></th>\n",
       "      <th>Confirmed</th>\n",
       "    </tr>\n",
       "    <tr>\n",
       "      <th>Data</th>\n",
       "      <th></th>\n",
       "    </tr>\n",
       "  </thead>\n",
       "  <tbody>\n",
       "    <tr>\n",
       "      <th>2020-01-22</th>\n",
       "      <td>555.0</td>\n",
       "    </tr>\n",
       "    <tr>\n",
       "      <th>2020-01-23</th>\n",
       "      <td>653.0</td>\n",
       "    </tr>\n",
       "    <tr>\n",
       "      <th>2020-01-24</th>\n",
       "      <td>941.0</td>\n",
       "    </tr>\n",
       "    <tr>\n",
       "      <th>2020-01-25</th>\n",
       "      <td>1438.0</td>\n",
       "    </tr>\n",
       "    <tr>\n",
       "      <th>2020-01-26</th>\n",
       "      <td>2118.0</td>\n",
       "    </tr>\n",
       "  </tbody>\n",
       "</table>\n",
       "</div>"
      ],
      "text/plain": [
       "            Confirmed\n",
       "Data                 \n",
       "2020-01-22      555.0\n",
       "2020-01-23      653.0\n",
       "2020-01-24      941.0\n",
       "2020-01-25     1438.0\n",
       "2020-01-26     2118.0"
      ]
     },
     "execution_count": 10,
     "metadata": {},
     "output_type": "execute_result"
    }
   ],
   "source": [
    "b_ar = covid['Confirmed'].values\n",
    "b_s = pd.DataFrame(data = covid[['Confirmed']])\n",
    "b_s.head()"
   ]
  },
  {
   "cell_type": "code",
   "execution_count": 11,
   "metadata": {},
   "outputs": [
    {
     "data": {
      "text/plain": [
       "Text(0.5, 1.0, 'Covid')"
      ]
     },
     "execution_count": 11,
     "metadata": {},
     "output_type": "execute_result"
    },
    {
     "data": {
      "image/png": "[encoded data removed]",
      "text/plain": [
       "<Figure size 1440x648 with 1 Axes>"
      ]
     },
     "metadata": {
      "needs_background": "light"
     },
     "output_type": "display_data"
    }
   ],
   "source": [
    "def exponential_smoothing(series, alpha):\n",
    "    result = [series[0]] # first value is same as series\n",
    "    for n in range(1, len(series)):\n",
    "        result.append(alpha * series[n] + (1 - alpha) * result[n-1])\n",
    "    return result\n",
    "\n",
    "b_ar_exp_1 = exponential_smoothing(covid['Confirmed'], 0.5)\n",
    "\n",
    "plt.figure(figsize=(20, 9))\n",
    "plt.plot(b_s.index, b_s['Confirmed'], label='исходный ряд')\n",
    "plt.plot(b_s.index,b_ar_exp_1, color = 'red', label=\"экспоненциальное сглаживание\");\n",
    "plt.plot(b_s.index,b_s['Confirmed'] - b_ar_exp_1, color = 'green', label=\"без тренда по экспоненциальному сглаживанию\");\n",
    "plt.xlabel('time')\n",
    "plt.ylabel('persons')\n",
    "plt.legend()\n",
    "plt.title('Covid')"
   ]
  },
  {
   "cell_type": "code",
   "execution_count": 12,
   "metadata": {},
   "outputs": [],
   "source": [
    "train = b_s.iloc[:-10, :]\n",
    "test = b_s.iloc[-10:, :]\n",
    "\n",
    "b_ar_exp_1 = pd.DataFrame(data = b_ar_exp_1, index = b_s.index)"
   ]
  },
  {
   "cell_type": "code",
   "execution_count": 13,
   "metadata": {},
   "outputs": [
    {
     "name": "stderr",
     "output_type": "stream",
     "text": [
      "C:\\Users\\sd\\Anaconda3\\lib\\site-packages\\pandas\\core\\indexing.py:190: SettingWithCopyWarning: \n",
      "A value is trying to be set on a copy of a slice from a DataFrame\n",
      "\n",
      "See the caveats in the documentation: http://pandas.pydata.org/pandas-docs/stable/indexing.html#indexing-view-versus-copy\n",
      "  self._setitem_with_indexer(indexer, value)\n"
     ]
    },
    {
     "data": {
      "text/html": [
       "<div>\n",
       "<style scoped>\n",
       "    .dataframe tbody tr th:only-of-type {\n",
       "        vertical-align: middle;\n",
       "    }\n",
       "\n",
       "    .dataframe tbody tr th {\n",
       "        vertical-align: top;\n",
       "    }\n",
       "\n",
       "    .dataframe thead th {\n",
       "        text-align: right;\n",
       "    }\n",
       "</style>\n",
       "<table border=\"1\" class=\"dataframe\">\n",
       "  <thead>\n",
       "    <tr style=\"text-align: right;\">\n",
       "      <th></th>\n",
       "      <th>0</th>\n",
       "      <th>t</th>\n",
       "      <th>t1</th>\n",
       "      <th>t2</th>\n",
       "      <th>exp_0_1</th>\n",
       "      <th>exp_0_3</th>\n",
       "      <th>exp_0_5</th>\n",
       "      <th>diff1</th>\n",
       "    </tr>\n",
       "    <tr>\n",
       "      <th>Data</th>\n",
       "      <th></th>\n",
       "      <th></th>\n",
       "      <th></th>\n",
       "      <th></th>\n",
       "      <th></th>\n",
       "      <th></th>\n",
       "      <th></th>\n",
       "      <th></th>\n",
       "    </tr>\n",
       "  </thead>\n",
       "  <tbody>\n",
       "    <tr>\n",
       "      <th>2020-01-22</th>\n",
       "      <td>555.000</td>\n",
       "      <td>0.00</td>\n",
       "      <td>0.0</td>\n",
       "      <td>0.0</td>\n",
       "      <td>555.0000</td>\n",
       "      <td>555.0000</td>\n",
       "      <td>555.000</td>\n",
       "      <td>0.0</td>\n",
       "    </tr>\n",
       "    <tr>\n",
       "      <th>2020-01-23</th>\n",
       "      <td>604.000</td>\n",
       "      <td>555.00</td>\n",
       "      <td>0.0</td>\n",
       "      <td>0.0</td>\n",
       "      <td>559.9000</td>\n",
       "      <td>569.7000</td>\n",
       "      <td>579.500</td>\n",
       "      <td>0.0</td>\n",
       "    </tr>\n",
       "    <tr>\n",
       "      <th>2020-01-24</th>\n",
       "      <td>772.500</td>\n",
       "      <td>604.00</td>\n",
       "      <td>555.0</td>\n",
       "      <td>0.0</td>\n",
       "      <td>581.1600</td>\n",
       "      <td>630.5400</td>\n",
       "      <td>676.000</td>\n",
       "      <td>0.0</td>\n",
       "    </tr>\n",
       "    <tr>\n",
       "      <th>2020-01-25</th>\n",
       "      <td>1105.250</td>\n",
       "      <td>772.50</td>\n",
       "      <td>604.0</td>\n",
       "      <td>555.0</td>\n",
       "      <td>633.5690</td>\n",
       "      <td>772.9530</td>\n",
       "      <td>890.625</td>\n",
       "      <td>0.0</td>\n",
       "    </tr>\n",
       "    <tr>\n",
       "      <th>2020-01-26</th>\n",
       "      <td>1611.625</td>\n",
       "      <td>1105.25</td>\n",
       "      <td>772.5</td>\n",
       "      <td>604.0</td>\n",
       "      <td>731.3746</td>\n",
       "      <td>1024.5546</td>\n",
       "      <td>1251.125</td>\n",
       "      <td>0.0</td>\n",
       "    </tr>\n",
       "  </tbody>\n",
       "</table>\n",
       "</div>"
      ],
      "text/plain": [
       "                   0        t     t1     t2   exp_0_1    exp_0_3   exp_0_5  \\\n",
       "Data                                                                         \n",
       "2020-01-22   555.000     0.00    0.0    0.0  555.0000   555.0000   555.000   \n",
       "2020-01-23   604.000   555.00    0.0    0.0  559.9000   569.7000   579.500   \n",
       "2020-01-24   772.500   604.00  555.0    0.0  581.1600   630.5400   676.000   \n",
       "2020-01-25  1105.250   772.50  604.0  555.0  633.5690   772.9530   890.625   \n",
       "2020-01-26  1611.625  1105.25  772.5  604.0  731.3746  1024.5546  1251.125   \n",
       "\n",
       "            diff1  \n",
       "Data               \n",
       "2020-01-22    0.0  \n",
       "2020-01-23    0.0  \n",
       "2020-01-24    0.0  \n",
       "2020-01-25    0.0  \n",
       "2020-01-26    0.0  "
      ]
     },
     "execution_count": 13,
     "metadata": {},
     "output_type": "execute_result"
    }
   ],
   "source": [
    "df= pd.DataFrame(b_ar_exp_1)\n",
    "df.head()\n",
    " # добавили историю на глубину 3 измерения от текущего (р=3)\n",
    "df['t'] = 0\n",
    "df.iloc[1:,1]=df.iloc[:-1,0].values\n",
    "df['t1']=0\n",
    "df.iloc[2:,2]=df.iloc[:-2,0].values\n",
    "df['t2']=0\n",
    "df.iloc[3:,3]=df.iloc[:-3,0].values\n",
    "df.fillna(0)\n",
    "# добавили сглаживание (3 вида - просто для коллекции)\n",
    "df['exp_0_1'] = exponential_smoothing(df[0], 0.1)\n",
    "df['exp_0_3'] = exponential_smoothing(df[0], 0.3)\n",
    "df['exp_0_5'] = exponential_smoothing(df[0], 0.5)\n",
    "# добавим разности - 1-й порядок\n",
    "df['diff1'] = 0\n",
    "df['diff1'].iloc[1:] = df.iloc[:-1,0]-df.iloc[1:,0]\n",
    "\n",
    "\n",
    "df.head()"
   ]
  },
  {
   "cell_type": "code",
   "execution_count": 14,
   "metadata": {
    "scrolled": false
   },
   "outputs": [
    {
     "data": {
      "image/png": "[encoded data removed]",
      "text/plain": [
       "<Figure size 1080x504 with 1 Axes>"
      ]
     },
     "metadata": {
      "needs_background": "light"
     },
     "output_type": "display_data"
    }
   ],
   "source": [
    "from sklearn.ensemble import GradientBoostingRegressor\n",
    "from sklearn.preprocessing import StandardScaler\n",
    "\n",
    "from sklearn.metrics import mean_absolute_error, mean_squared_error, median_absolute_error, r2_score\n",
    "scl =StandardScaler()\n",
    "scly =StandardScaler()\n",
    "\n",
    "# сделаем примеры и модель \n",
    "def split_data_b( data, split_date ):\n",
    "    return data.loc[data.index.get_level_values('Data') <= split_date].copy(), \\\n",
    "           data.loc[data.index.get_level_values('Data') >  split_date].copy()\n",
    "\n",
    "train_b, test_b = split_data_b( df, datetime.strptime('20-04-2020', '%d-%m-%Y').date())\n",
    "\n",
    "\n",
    "\n",
    "X_train_b = train_b.iloc[:-1,:]\n",
    "y_train_b = train_b[df.columns[0]].values[1:]\n",
    "X_test_b = test_b.iloc[:-1,:]\n",
    "y_test_b = test_b[df.columns[0]].values[1:]\n",
    "\n",
    "\n",
    "plt.figure( figsize=( 15, 7 ))\n",
    "plt.xlabel('Время')\n",
    "plt.ylabel('persons')\n",
    "plt.plot(train_b.index.get_level_values('Data'),train_b[df.columns[0]], label='train data' )\n",
    "plt.plot(test_b.index.get_level_values('Data'),test_b[df.columns[0]], label='test data')\n",
    "plt.title( 'Тестовые и тренировочные данные' )\n",
    "plt.legend()\n",
    "plt.show()"
   ]
  },
  {
   "cell_type": "markdown",
   "metadata": {},
   "source": [
    "#### 2. Оцените ошибку модели из п.1 ."
   ]
  },
  {
   "cell_type": "code",
   "execution_count": 15,
   "metadata": {},
   "outputs": [
    {
     "name": "stdout",
     "output_type": "stream",
     "text": [
      "ошибка градиентного бустинга :   25.542071220629943 %\n"
     ]
    }
   ],
   "source": [
    "def mean_absolute_percentage_error(y_true, y_pred): \n",
    "    y_true, y_pred = np.array(y_true), np.array(y_pred)\n",
    "    return np.mean(np.abs((y_true - y_pred) / y_true)) * 100\n",
    "\n",
    "model_gb = GradientBoostingRegressor(max_depth=15, random_state=0, n_estimators=100)\n",
    "model_gb.fit( X_train_b, y_train_b ) \n",
    "X_test_pred_gb = model_gb.predict(X_test_b)\n",
    "\n",
    "er_g = mean_absolute_percentage_error(y_true=y_test_b, y_pred=X_test_pred_gb)\n",
    "\n",
    "print('ошибка градиентного бустинга :  ', er_g, '%')"
   ]
  },
  {
   "cell_type": "markdown",
   "metadata": {},
   "source": [
    "#### 3. Сделайте вывод о том, как изменилась ошибка модели по значениям h."
   ]
  },
  {
   "cell_type": "code",
   "execution_count": 16,
   "metadata": {},
   "outputs": [
    {
     "name": "stdout",
     "output_type": "stream",
     "text": [
      "ошибка градиентного бустинга :   29.58762263302766 %\n"
     ]
    }
   ],
   "source": [
    "h=5\n",
    "X_train_b = train_b.iloc[:-h,:]\n",
    "y_train_b = train_b[df.columns[0]].values[h:]\n",
    "X_test_b = test_b.iloc[:-h,:]\n",
    "y_test_b = test_b[df.columns[0]].values[h:]\n",
    "\n",
    "model_gb.fit( X_train_b, y_train_b ) \n",
    "X_test_pred_gb = model_gb.predict(X_test_b)\n",
    "\n",
    "er_g = mean_absolute_percentage_error(y_true=y_test_b, y_pred=X_test_pred_gb)\n",
    "\n",
    "print('ошибка градиентного бустинга :  ', er_g, '%')"
   ]
  },
  {
   "cell_type": "code",
   "execution_count": 17,
   "metadata": {},
   "outputs": [
    {
     "name": "stdout",
     "output_type": "stream",
     "text": [
      "ошибка градиентного бустинга :   33.823209655809784 %\n"
     ]
    }
   ],
   "source": [
    "h=10\n",
    "X_train_b = train_b.iloc[:-h,:]\n",
    "y_train_b = train_b[df.columns[0]].values[h:]\n",
    "X_test_b = test_b.iloc[:-h,:]\n",
    "y_test_b = test_b[df.columns[0]].values[h:]\n",
    "\n",
    "model_gb.fit( X_train_b, y_train_b ) \n",
    "X_test_pred_gb = model_gb.predict(X_test_b)\n",
    "\n",
    "er_g = mean_absolute_percentage_error(y_true=y_test_b, y_pred=X_test_pred_gb)\n",
    "\n",
    "print('ошибка градиентного бустинга :  ', er_g, '%')"
   ]
  },
  {
   "cell_type": "markdown",
   "metadata": {},
   "source": [
    "Видим, что с увеличением глубины  прогноза ошибка увеличивается "
   ]
  },
  {
   "cell_type": "markdown",
   "metadata": {},
   "source": [
    "#### 4. Попробуйте предположить характер ряда (стационарный или нет, с трендом, с сезоном, с циклом) для рядов из списка и аргументируйте свой ответ (одна строка):\n",
    "\n"
   ]
  },
  {
   "cell_type": "markdown",
   "metadata": {},
   "source": [
    "а) Изменение температуры за окном :).   \n",
    "на большом промежутке времени - стационарный, в пределах года - нестационарный, с сезоном\n",
    "\n",
    "б) Количество денег, которые тратят покупатели в интернет магазине.   \n",
    "нестационарный, с сезоном (праздники)\n",
    "\n",
    "в) Вес растущего котенка.   \n",
    "нестационарный, с трендом\n",
    "\n",
    "г) Прирост объема деревьев в лесу от времени  \n",
    "поскольку лес - замкнутая экосистема, и количество деревьев регулируется само (исключая внешние факторы, пожары, наводнения), то ряд - стационарный"
   ]
  },
  {
   "cell_type": "code",
   "execution_count": null,
   "metadata": {},
   "outputs": [],
   "source": []
  }
 ],
 "metadata": {
  "kernelspec": {
   "display_name": "Python 3",
   "language": "python",
   "name": "python3"
  },
  "language_info": {
   "codemirror_mode": {
    "name": "ipython",
    "version": 3
   },
   "file_extension": ".py",
   "mimetype": "text/x-python",
   "name": "python",
   "nbconvert_exporter": "python",
   "pygments_lexer": "ipython3",
   "version": "3.7.3"
  }
 },
 "nbformat": 4,
 "nbformat_minor": 2
}
